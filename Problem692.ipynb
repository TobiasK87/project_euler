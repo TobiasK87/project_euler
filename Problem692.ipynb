{
 "cells": [
  {
   "cell_type": "code",
   "execution_count": 28,
   "metadata": {},
   "outputs": [],
   "source": [
    "import itertools"
   ]
  },
  {
   "cell_type": "code",
   "execution_count": null,
   "metadata": {},
   "outputs": [],
   "source": [
    "def combs(n):\n",
    "    strng = \"\"\n",
    "    for i in range(1,n+1):\n",
    "        strng"
   ]
  },
  {
   "cell_type": "code",
   "execution_count": 17,
   "metadata": {},
   "outputs": [
    {
     "data": {
      "text/plain": [
       "'SSSJSSSJS'"
      ]
     },
     "execution_count": 17,
     "metadata": {},
     "output_type": "execute_result"
    }
   ],
   "source": [
    "a = \"S\"*3\n",
    "\"SSJ\".join(a)"
   ]
  },
  {
   "cell_type": "code",
   "execution_count": 35,
   "metadata": {},
   "outputs": [
    {
     "data": {
      "text/plain": [
       "[('S', 'S', 'S', 'S', 'S'),\n",
       " ('S', 'S', 'S', 'S', 'J'),\n",
       " ('S', 'S', 'S', 'J', 'J'),\n",
       " ('S', 'S', 'J', 'J', 'J'),\n",
       " ('S', 'J', 'J', 'J', 'J'),\n",
       " ('J', 'J', 'J', 'J', 'J')]"
      ]
     },
     "execution_count": 35,
     "metadata": {},
     "output_type": "execute_result"
    }
   ],
   "source": [
    "from itertools import combinations_with_replacement\n",
    "n, k = 'S J'.split(), 5\n",
    "list(combinations_with_replacement(n,k))"
   ]
  },
  {
   "cell_type": "code",
   "execution_count": 75,
   "metadata": {},
   "outputs": [
    {
     "data": {
      "text/plain": [
       "['SJSSJS',\n",
       " 'SJSSJJ',\n",
       " 'SJSJSS',\n",
       " 'SJSJSJ',\n",
       " 'SJSJJS',\n",
       " 'SJSJJJ',\n",
       " 'SJJSSS',\n",
       " 'SJJSSJ',\n",
       " 'SJJSJS',\n",
       " 'SJJSJJ',\n",
       " 'SJJJSS',\n",
       " 'SJJJSJ',\n",
       " 'SJJJJS',\n",
       " 'SJJJJJ']"
      ]
     },
     "execution_count": 75,
     "metadata": {},
     "output_type": "execute_result"
    }
   ],
   "source": [
    "from itertools import product\n",
    "n = 5\n",
    "A = list(product(['S','J'],repeat=n))\n",
    "# print(A)\n",
    "A = ['S' + ''.join(a) for a in A]\n",
    "for combo in A.copy():\n",
    "    #print(combo, combo[:int(n/3)+2]=='S'*(int(n/3)+2), combo != 'S'*(n+1))\n",
    "    if combo[:int(n/3)+2] == 'S'*(int(n/3)+2) and combo != 'S'*(n+1):\n",
    "        #print(\"remove: \", combo)\n",
    "        A.remove(combo)\n",
    "        continue\n",
    "    streak, prev_streak = len(combo), 1\n",
    "    for i in range(0,len(combo)-1):\n",
    "        if i>0:\n",
    "            if combo[i] != combo[i-1]:\n",
    "                prev_streak = streak\n",
    "                streak = 1\n",
    "            else:\n",
    "                streak +=1\n",
    "            if streak > 2*prev_streak:\n",
    "                A.remove(combo)\n",
    "                break\n",
    "A"
   ]
  },
  {
   "cell_type": "code",
   "execution_count": 46,
   "metadata": {},
   "outputs": [
    {
     "name": "stdout",
     "output_type": "stream",
     "text": [
      "spam, ham, eggs\n"
     ]
    }
   ],
   "source": [
    "mylist = ['spam', 'ham', 'eggs']\n",
    "print(', '.join(mylist))"
   ]
  }
 ],
 "metadata": {
  "kernelspec": {
   "display_name": "Python 3",
   "language": "python",
   "name": "python3"
  },
  "language_info": {
   "codemirror_mode": {
    "name": "ipython",
    "version": 3
   },
   "file_extension": ".py",
   "mimetype": "text/x-python",
   "name": "python",
   "nbconvert_exporter": "python",
   "pygments_lexer": "ipython3",
   "version": "3.7.6"
  }
 },
 "nbformat": 4,
 "nbformat_minor": 4
}
