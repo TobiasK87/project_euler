{
 "cells": [
  {
   "cell_type": "code",
   "execution_count": 3,
   "metadata": {},
   "outputs": [
    {
     "data": {
      "text/plain": [
       "10.0"
      ]
     },
     "execution_count": 3,
     "metadata": {},
     "output_type": "execute_result"
    }
   ],
   "source": [
    "import operator as op\n",
    "from functools import reduce\n",
    "\n",
    "def ncr(n, r):\n",
    "    r = min(r, n-r)\n",
    "    numer = reduce(op.mul, range(n, n-r, -1), 1)\n",
    "    denom = reduce(op.mul, range(1, r+1), 1)\n",
    "    return numer / denom\n",
    "ncr(5,3)"
   ]
  },
  {
   "cell_type": "code",
   "execution_count": 31,
   "metadata": {},
   "outputs": [
    {
     "name": "stdout",
     "output_type": "stream",
     "text": [
      "0\n",
      "1\n",
      "2\n",
      "3\n",
      "4\n",
      "5\n",
      "6\n",
      "7\n",
      "8\n",
      "9\n",
      "10\n"
     ]
    },
    {
     "data": {
      "text/plain": [
       "4.21210025397427e-17"
      ]
     },
     "execution_count": 31,
     "metadata": {},
     "output_type": "execute_result"
    }
   ],
   "source": [
    "cnt = 0\n",
    "cnt2,cnt3,cnt4,cnt5,cnt6,cnt7 = 0,0,0,0,0,0\n",
    "for i1 in range(11):\n",
    "    print(i1)\n",
    "    for i2 in range(11):\n",
    "        if i1+i2>20:\n",
    "            break\n",
    "        for i3 in range(11):\n",
    "            if i1+i2+i3>20:\n",
    "                break\n",
    "            for i4 in range(11):\n",
    "                if i1+i2+i3+i4>20:\n",
    "                    break\n",
    "                for i5 in range(11):\n",
    "                    if i1+i2+i3+i4+i5>20:\n",
    "                        break\n",
    "                    for i6 in range(11):\n",
    "                        if i1+i2+i3+i4+i5+i6>20:\n",
    "                            break\n",
    "                        for i7 in range(11):\n",
    "                            #print(i7)\n",
    "                            if i1+i2+i3+i4+i5+i6+i7>20:\n",
    "                                break\n",
    "                            #print(i1,i2,i3,i4,i5,i6,i7)\n",
    "                            if i1+i2+i3+i4+i5+i6+i7==20:\n",
    "                                cnt += ncr(10,i1)*ncr(10,i2)*ncr(10,i3)*ncr(10,i4)*ncr(10,i5)*ncr(10,i6)*ncr(10,i7)*sum(np.array([i1,i2,i3,i4,i5,i6,i7])>=1)           \n",
    "cnt/ncr(70,20) # 6.818741802"
   ]
  }
 ],
 "metadata": {
  "kernelspec": {
   "display_name": "Python 3",
   "language": "python",
   "name": "python3"
  },
  "language_info": {
   "codemirror_mode": {
    "name": "ipython",
    "version": 3
   },
   "file_extension": ".py",
   "mimetype": "text/x-python",
   "name": "python",
   "nbconvert_exporter": "python",
   "pygments_lexer": "ipython3",
   "version": "3.7.6"
  }
 },
 "nbformat": 4,
 "nbformat_minor": 4
}
