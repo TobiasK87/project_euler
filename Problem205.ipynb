{
 "cells": [
  {
   "cell_type": "code",
   "execution_count": 4,
   "metadata": {},
   "outputs": [
    {
     "data": {
      "text/plain": [
       "0.5731441"
      ]
     },
     "execution_count": 4,
     "metadata": {},
     "output_type": "execute_result"
    }
   ],
   "source": [
    "fourths = {}\n",
    "for i1 in range(1,5):\n",
    "    for i2 in range(1,5):\n",
    "        for i3 in range(1,5):\n",
    "            for i4 in range(1,5):\n",
    "                for i5 in range(1,5):\n",
    "                    for i6 in range(1,5):\n",
    "                        for i7 in range(1,5):\n",
    "                            for i8 in range(1,5):\n",
    "                                for i9 in range(1,5):\n",
    "                                    sm = i1+i2+i3+i4+i5+i6+i7+i8+i9\n",
    "                                    fourths[sm] = fourths.get(sm,0) + 1\n",
    "fourths\n",
    "sixths = {}\n",
    "for i1 in range(1,7):\n",
    "    for i2 in range(1,7):\n",
    "        for i3 in range(1,7):\n",
    "            for i4 in range(1,7):\n",
    "                for i5 in range(1,7):\n",
    "                    for i6 in range(1,7):\n",
    "                        sm = i1+i2+i3+i4+i5+i6\n",
    "                        sixths[sm] = sixths.get(sm,0) + 1\n",
    "sm = 0\n",
    "for i in fourths.keys():\n",
    "    for j in sixths.keys():\n",
    "        if i>j:\n",
    "            sm += fourths[i] * sixths[j]\n",
    "round(sm/(4**9*6**6),7) # 0.5731441"
   ]
  }
 ],
 "metadata": {
  "kernelspec": {
   "display_name": "Python 3",
   "language": "python",
   "name": "python3"
  },
  "language_info": {
   "codemirror_mode": {
    "name": "ipython",
    "version": 3
   },
   "file_extension": ".py",
   "mimetype": "text/x-python",
   "name": "python",
   "nbconvert_exporter": "python",
   "pygments_lexer": "ipython3",
   "version": "3.7.6"
  }
 },
 "nbformat": 4,
 "nbformat_minor": 4
}
