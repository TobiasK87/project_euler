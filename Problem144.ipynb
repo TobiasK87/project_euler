{
 "cells": [
  {
   "cell_type": "code",
   "execution_count": 22,
   "metadata": {},
   "outputs": [
    {
     "data": {
      "text/plain": [
       "(5, 4)"
      ]
     },
     "execution_count": 22,
     "metadata": {},
     "output_type": "execute_result"
    }
   ],
   "source": [
    "a=5\n",
    "b=a\n",
    "a=4\n",
    "b,a"
   ]
  },
  {
   "cell_type": "code",
   "execution_count": 7,
   "metadata": {},
   "outputs": [
    {
     "data": {
      "text/plain": [
       "0.20000000000000018"
      ]
     },
     "execution_count": 7,
     "metadata": {},
     "output_type": "execute_result"
    }
   ],
   "source": [
    "from numpy import sqrt\n",
    "abs(5-5.2)"
   ]
  },
  {
   "cell_type": "code",
   "execution_count": 23,
   "metadata": {},
   "outputs": [
    {
     "name": "stdout",
     "output_type": "stream",
     "text": [
      "s_neu -0.7016726479044683 -8.617658292933744\n",
      "x_neu,x_alt,y_neu -9.3475325496156 1.4 -2.0587503774717595 253.74391218123264\n",
      "-4.092035353323679 -5.7463890112484215 0.0\n",
      "Das wäre der Punkt auf der Geraden:  -5.7463890112484215\n",
      "s_neu 27.94077855159602 108.58826462127045\n",
      "x_neu,x_alt,y_neu -6067.855835935954 -4.092035353323679 -169432.02793027475 28854487486.34821\n",
      "-4.092035353323679 -5.746389011248425 2.842170943040401e-14\n",
      "Das wäre der Punkt auf der Geraden:  -5.746389011248425\n",
      "s_neu nan nan\n",
      "x_neu,x_alt,y_neu nan -4.092035353323679 nan nan\n",
      "nan nan nan\n",
      "Das wäre der Punkt auf der Geraden:  nan\n",
      "s_neu nan nan\n",
      "x_neu,x_alt,y_neu nan nan nan nan\n",
      "nan nan nan\n",
      "Das wäre der Punkt auf der Geraden:  nan\n",
      "s_neu nan nan\n",
      "x_neu,x_alt,y_neu nan nan nan nan\n",
      "nan nan nan\n",
      "Das wäre der Punkt auf der Geraden:  nan\n",
      "s_neu nan nan\n",
      "x_neu,x_alt,y_neu nan nan nan nan\n",
      "nan nan nan\n",
      "Das wäre der Punkt auf der Geraden:  nan\n",
      "s_neu nan nan\n",
      "x_neu,x_alt,y_neu nan nan nan nan\n",
      "nan nan nan\n",
      "Das wäre der Punkt auf der Geraden:  nan\n",
      "s_neu nan nan\n",
      "x_neu,x_alt,y_neu nan nan nan nan\n",
      "nan nan nan\n",
      "Das wäre der Punkt auf der Geraden:  nan\n",
      "s_neu nan nan\n",
      "x_neu,x_alt,y_neu nan nan nan nan\n",
      "nan nan nan\n",
      "Das wäre der Punkt auf der Geraden:  nan\n"
     ]
    },
    {
     "name": "stderr",
     "output_type": "stream",
     "text": [
      "C:\\ProgramData\\Anaconda3\\lib\\site-packages\\ipykernel_launcher.py:6: RuntimeWarning: divide by zero encountered in double_scalars\n",
      "  \n",
      "C:\\ProgramData\\Anaconda3\\lib\\site-packages\\ipykernel_launcher.py:6: RuntimeWarning: invalid value encountered in double_scalars\n",
      "  \n"
     ]
    },
    {
     "data": {
      "text/plain": [
       "10"
      ]
     },
     "execution_count": 23,
     "metadata": {},
     "output_type": "execute_result"
    }
   ],
   "source": [
    "cnt=1\n",
    "x_alt, y_alt, x_neu, y_neu = 0, 10.1, 1.4, -9.6\n",
    "while True:\n",
    "    cnt+=1\n",
    "    s_n = (x_alt+x_neu)/2\n",
    "    n_ttilde = (y_neu-y_alt)/(x_neu-x_alt)*(s_n-x_neu) + y_neu + 4*x_neu/y_neu * s_n\n",
    "    s_n_hat = (n_ttilde-3/4*y_neu) / (y_neu/(4*x_neu)+4*x_neu/y_neu)\n",
    "    # print(\"hat\", s_n_hat, s_n)\n",
    "    s_n_bar = 2*s_n_hat - s_n\n",
    "    m_s_neu = (y_neu + 4*x_neu/y_neu*s_n_bar + n_ttilde) / (x_neu - s_n_bar)\n",
    "    n_s_neu = y_neu - m_s_neu*x_neu\n",
    "    print(\"s_neu\", m_s_neu, n_s_neu)\n",
    "    x_alt = x_neu\n",
    "    y_alt = y_neu\n",
    "    x_neu = -2*m_s_neu*n_s_neu + sqrt(4*m_s_neu**2*n_s_neu**2 - 4*(4+m_s_neu**2)*(n_s_neu**2-100)) / (2*(4+m_s_neu**2))\n",
    "    y_neu = m_s_neu * x_neu + n_s_neu\n",
    "    print(\"x_neu,x_alt,y_neu\", x_neu, x_alt,y_neu, abs(4*x_neu**2+y_neu**2-100))\n",
    "    if abs(x_neu-x_alt)<0.01 or abs(4*x_neu**2+y_neu**2-100)>0.1:\n",
    "        x_neu = (-2*m_s_neu*n_s_neu - sqrt(4*m_s_neu**2*n_s_neu**2 - 4*(4+m_s_neu**2)*(n_s_neu**2-100))) / (2*(4+m_s_neu**2))\n",
    "        y_neu = m_s_neu * x_neu + n_s_neu\n",
    "    print(x_neu,y_neu, abs(4*x_neu**2+y_neu**2-100))\n",
    "    print(\"Das wäre der Punkt auf der Geraden: \", m_s_neu*x_neu + n_s_neu)\n",
    "    if cnt%10000==0:\n",
    "        print(cnt)\n",
    "    if cnt>=10:\n",
    "        break\n",
    "    if abs(x)<=0.01 and y>9:\n",
    "        break\n",
    "cnt"
   ]
  },
  {
   "cell_type": "code",
   "execution_count": 25,
   "metadata": {},
   "outputs": [],
   "source": [
    "import matplotlib.pyplot as plt\n",
    "import numpy as np\n",
    "x = np.linspace(-10,10,100)\n",
    "m, n = 27.94077855159602, 108.58826462127045\n",
    "y = m*x+n"
   ]
  },
  {
   "cell_type": "code",
   "execution_count": 54,
   "metadata": {},
   "outputs": [
    {
     "data": {
      "image/png": "[encoded data removed]",
      "text/plain": [
       "<Figure size 432x288 with 1 Axes>"
      ]
     },
     "metadata": {
      "needs_background": "light"
     },
     "output_type": "display_data"
    }
   ],
   "source": [
    "#plt.plot(x,y)\n",
    "#plt.xlim=[0,5]\n",
    "#plt.show()\n",
    "from matplotlib.patches import Ellipse\n",
    "\n",
    "plt.figure()\n",
    "ax = plt.gca()\n",
    "\n",
    "ellipse = Ellipse(xy=(0,0), width=10, height=20, \n",
    "                        edgecolor='r', fc='None', lw=2)\n",
    "ax.add_patch(ellipse)\n",
    "# ax.xlim=[0,160]\n",
    "# ax.ylim=[0,80]\n",
    "#ax.xlim([0,160])\n",
    "#ax.ylim([0,80])\n",
    "ax.axis(xmin=-10,xmax=10, ymin=-15,ymax=15)\n",
    "ax.plot(x,y)\n",
    "# print(ax.xlim)\n",
    "plt.show()"
   ]
  },
  {
   "cell_type": "code",
   "execution_count": 56,
   "metadata": {},
   "outputs": [
    {
     "data": {
      "text/plain": [
       "(5.0, 1.0)"
      ]
     },
     "execution_count": 56,
     "metadata": {},
     "output_type": "execute_result"
    }
   ],
   "source": [
    "from numpy import sqrt\n",
    "def abcFormel(a,b,c):\n",
    "    rad = b**2 - 4*a*c\n",
    "    if rad<0:\n",
    "        print(\"Wurzel in abc-Formel ist negativ\")\n",
    "    elif rad==0:\n",
    "        print(\"Wurzel in abc-Formel ist negativ\")\n",
    "        return -b/(2*a)\n",
    "    else:\n",
    "        x1 = (-b + sqrt(rad))/(2*a)\n",
    "        x2 = (-b - sqrt(rad))/(2*a)\n",
    "        return x1, x2\n",
    "def norm(a1,a2):\n",
    "    return sqrt(a1**2+a2**2)\n",
    "abcFormel(1,-6,5)"
   ]
  },
  {
   "cell_type": "code",
   "execution_count": null,
   "metadata": {},
   "outputs": [],
   "source": [
    "m = 7/12\n",
    "a = "
   ]
  }
 ],
 "metadata": {
  "kernelspec": {
   "display_name": "Python 3",
   "language": "python",
   "name": "python3"
  },
  "language_info": {
   "codemirror_mode": {
    "name": "ipython",
    "version": 3
   },
   "file_extension": ".py",
   "mimetype": "text/x-python",
   "name": "python",
   "nbconvert_exporter": "python",
   "pygments_lexer": "ipython3",
   "version": "3.7.6"
  }
 },
 "nbformat": 4,
 "nbformat_minor": 4
}
