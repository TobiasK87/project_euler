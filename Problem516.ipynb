{
 "cells": [
  {
   "cell_type": "code",
   "execution_count": 34,
   "metadata": {},
   "outputs": [],
   "source": [
    "def primes(n):\n",
    "    r = [True] * n\n",
    "    r[0] = r[1] = False \n",
    "    r[4::2] = [False] * len(r[4::2])\n",
    "    for i in range(3,int(1 + n**0.5),2):\n",
    "        if r[i]:\n",
    "            r[i*i::2*i] = [False] * len(r[i*i::2*i])\n",
    "    return r\n",
    "\n",
    "prime_list = primes(10**6)\n",
    "prime_list = [i for i,x in enumerate(prime_list) if x]\n",
    "\n",
    "def is_prime(n):\n",
    "    i, p = 0, 2\n",
    "    while True:\n",
    "        if n%p==0:\n",
    "            return False\n",
    "        if p*p>=n:\n",
    "            break\n",
    "        i += 1\n",
    "        p = prime_list[i]\n",
    "    return True"
   ]
  },
  {
   "cell_type": "code",
   "execution_count": 101,
   "metadata": {},
   "outputs": [
    {
     "data": {
      "text/plain": [
       "(3429, [1, 2, 3, 4, 5, 6, 8, 9, 10, 12])"
      ]
     },
     "execution_count": 101,
     "metadata": {},
     "output_type": "execute_result"
    }
   ],
   "source": [
    "pots = []\n",
    "for i1 in range(0,41):\n",
    "    for i2 in range(0,27):\n",
    "        for i3 in range(0,19):\n",
    "            pots.extend([2**i1*3**i2*5**i3])\n",
    "pots = [a for a in pots if a<=10**12]\n",
    "pots = sorted(pots)\n",
    "len(pots), pots[:10]\n"
   ]
  },
  {
   "cell_type": "code",
   "execution_count": 115,
   "metadata": {},
   "outputs": [
    {
     "data": {
      "text/plain": [
       "[1, 3, 5, 7, 11, 13, 17, 19, 31, 37]"
      ]
     },
     "execution_count": 115,
     "metadata": {},
     "output_type": "execute_result"
    }
   ],
   "source": [
    "adds = [1]\n",
    "for i in pots:\n",
    "    if is_prime(i+1):\n",
    "        adds.extend([i+1])\n",
    "adds[:10]"
   ]
  },
  {
   "cell_type": "code",
   "execution_count": 106,
   "metadata": {},
   "outputs": [
    {
     "data": {
      "text/plain": [
       "3"
      ]
     },
     "execution_count": 106,
     "metadata": {},
     "output_type": "execute_result"
    }
   ],
   "source": [
    "243%5"
   ]
  },
  {
   "cell_type": "code",
   "execution_count": 116,
   "metadata": {},
   "outputs": [],
   "source": [
    "B = adds + [a*b for a in adds for b in adds if a!=b and a*b <= 10**12]\n",
    "B = sorted(list(set(B)))\n",
    "# B[:100]\n",
    "C = B + [a*b for a in B for b in adds if a%b!=0 and a*b <= 10**12]"
   ]
  },
  {
   "cell_type": "code",
   "execution_count": 117,
   "metadata": {},
   "outputs": [
    {
     "data": {
      "text/plain": [
       "1446943"
      ]
     },
     "execution_count": 117,
     "metadata": {},
     "output_type": "execute_result"
    }
   ],
   "source": [
    "D = C.copy()\n",
    "for c in C:\n",
    "    for a in adds:\n",
    "        n = a*c\n",
    "        if n>10**12:\n",
    "            break\n",
    "        elif c%a!=0:\n",
    "            D.extend([n])\n",
    "D = sorted(list(set(D)))\n",
    "len(D)"
   ]
  },
  {
   "cell_type": "code",
   "execution_count": 118,
   "metadata": {},
   "outputs": [
    {
     "data": {
      "text/plain": [
       "3559330"
      ]
     },
     "execution_count": 118,
     "metadata": {},
     "output_type": "execute_result"
    }
   ],
   "source": [
    "E = D.copy()\n",
    "for d in D:\n",
    "    for a in adds:\n",
    "        n = a*d\n",
    "        if n>10**12:\n",
    "            break\n",
    "        elif d%a!=0:\n",
    "            E.extend([n])\n",
    "E = sorted(list(set(E)))\n",
    "len(E)"
   ]
  },
  {
   "cell_type": "code",
   "execution_count": 119,
   "metadata": {},
   "outputs": [
    {
     "data": {
      "text/plain": [
       "5412598"
      ]
     },
     "execution_count": 119,
     "metadata": {},
     "output_type": "execute_result"
    }
   ],
   "source": [
    "F = E.copy()\n",
    "for d in E:\n",
    "    for a in adds:\n",
    "        n = a*d\n",
    "        if n>10**12:\n",
    "            break\n",
    "        elif d%a!=0:\n",
    "            F.extend([n])\n",
    "F = sorted(list(set(F)))\n",
    "len(F) # 857636"
   ]
  },
  {
   "cell_type": "code",
   "execution_count": 100,
   "metadata": {},
   "outputs": [
    {
     "data": {
      "text/plain": [
       "[3, 5, 7, 11, 13, 15, 17, 19, 21, 31, 33, 35, 37, 39, 41, 51, 55, 57, 61, 65]"
      ]
     },
     "execution_count": 100,
     "metadata": {},
     "output_type": "execute_result"
    }
   ],
   "source": [
    "F[:20]"
   ]
  },
  {
   "cell_type": "code",
   "execution_count": 120,
   "metadata": {},
   "outputs": [
    {
     "data": {
      "text/plain": [
       "6174931"
      ]
     },
     "execution_count": 120,
     "metadata": {},
     "output_type": "execute_result"
    }
   ],
   "source": [
    "G = F.copy()\n",
    "for d in F:\n",
    "    for a in adds:\n",
    "        n = a*d\n",
    "        if n>10**12:\n",
    "            break\n",
    "        elif d%a!=0:\n",
    "            G.extend([n])\n",
    "G = sorted(list(set(G)))\n",
    "len(G) # 857636"
   ]
  },
  {
   "cell_type": "code",
   "execution_count": null,
   "metadata": {},
   "outputs": [],
   "source": [
    "all = []\n",
    "for p in [1] + pots:\n",
    "    for g in G:\n",
    "        n = p*g\n",
    "        if n>10**12:\n",
    "            break\n",
    "        elif g%p!=0:\n",
    "            all.extend([n])\n",
    "all = sorted(list(set(all)))\n",
    "sum(all)%(2**32)"
   ]
  },
  {
   "cell_type": "code",
   "execution_count": null,
   "metadata": {},
   "outputs": [],
   "source": [
    "sum([g for g in all if g<=10**2])"
   ]
  },
  {
   "cell_type": "code",
   "execution_count": 99,
   "metadata": {},
   "outputs": [
    {
     "data": {
      "text/plain": [
       "[6,\n",
       " 10,\n",
       " 12,\n",
       " 14,\n",
       " 15,\n",
       " 18,\n",
       " 20,\n",
       " 21,\n",
       " 22,\n",
       " 24,\n",
       " 26,\n",
       " 27,\n",
       " 28,\n",
       " 30,\n",
       " 33,\n",
       " 34,\n",
       " 35,\n",
       " 36,\n",
       " 38,\n",
       " 39,\n",
       " 40,\n",
       " 42,\n",
       " 44,\n",
       " 45,\n",
       " 48,\n",
       " 50,\n",
       " 51,\n",
       " 52,\n",
       " 54,\n",
       " 55,\n",
       " 56,\n",
       " 57,\n",
       " 60,\n",
       " 62,\n",
       " 63,\n",
       " 65,\n",
       " 66,\n",
       " 68,\n",
       " 70,\n",
       " 72,\n",
       " 74,\n",
       " 75,\n",
       " 76,\n",
       " 78,\n",
       " 80,\n",
       " 81,\n",
       " 82,\n",
       " 84,\n",
       " 85,\n",
       " 88,\n",
       " 90,\n",
       " 93,\n",
       " 95,\n",
       " 96,\n",
       " 99,\n",
       " 100]"
      ]
     },
     "execution_count": 99,
     "metadata": {},
     "output_type": "execute_result"
    }
   ],
   "source": [
    "sum(all)%(2**32)\n",
    "sorted(all)"
   ]
  },
  {
   "cell_type": "code",
   "execution_count": 85,
   "metadata": {},
   "outputs": [
    {
     "data": {
      "text/plain": [
       "[3,\n",
       " 5,\n",
       " 7,\n",
       " 11,\n",
       " 13,\n",
       " 15,\n",
       " 17,\n",
       " 19,\n",
       " 21,\n",
       " 31,\n",
       " 33,\n",
       " 35,\n",
       " 37,\n",
       " 39,\n",
       " 41,\n",
       " 51,\n",
       " 55,\n",
       " 57,\n",
       " 61,\n",
       " 65,\n",
       " 73,\n",
       " 77,\n",
       " 85,\n",
       " 91,\n",
       " 93,\n",
       " 95,\n",
       " 97,\n",
       " 101,\n",
       " 105,\n",
       " 109,\n",
       " 111,\n",
       " 119,\n",
       " 123,\n",
       " 133,\n",
       " 143,\n",
       " 151,\n",
       " 155,\n",
       " 163,\n",
       " 165,\n",
       " 181,\n",
       " 183,\n",
       " 185,\n",
       " 187,\n",
       " 193,\n",
       " 195,\n",
       " 205,\n",
       " 209,\n",
       " 217,\n",
       " 219,\n",
       " 221,\n",
       " 231,\n",
       " 241,\n",
       " 247,\n",
       " 251,\n",
       " 255,\n",
       " 257,\n",
       " 259,\n",
       " 271,\n",
       " 273,\n",
       " 285,\n",
       " 287,\n",
       " 291,\n",
       " 303,\n",
       " 305,\n",
       " 323,\n",
       " 327,\n",
       " 341,\n",
       " 357,\n",
       " 365,\n",
       " 385,\n",
       " 399,\n",
       " 401,\n",
       " 403,\n",
       " 407,\n",
       " 427,\n",
       " 429,\n",
       " 433,\n",
       " 451,\n",
       " 453,\n",
       " 455,\n",
       " 465,\n",
       " 481,\n",
       " 485,\n",
       " 487,\n",
       " 489,\n",
       " 505,\n",
       " 511,\n",
       " 527,\n",
       " 533,\n",
       " 541,\n",
       " 543,\n",
       " 545,\n",
       " 555,\n",
       " 561,\n",
       " 577,\n",
       " 579,\n",
       " 589,\n",
       " 595,\n",
       " 601,\n",
       " 615]"
      ]
     },
     "execution_count": 85,
     "metadata": {},
     "output_type": "execute_result"
    }
   ],
   "source": [
    "G[:100]"
   ]
  },
  {
   "cell_type": "code",
   "execution_count": 71,
   "metadata": {},
   "outputs": [
    {
     "ename": "KeyboardInterrupt",
     "evalue": "",
     "output_type": "error",
     "traceback": [
      "\u001b[1;31m---------------------------------------------------------------------------\u001b[0m",
      "\u001b[1;31mKeyboardInterrupt\u001b[0m                         Traceback (most recent call last)",
      "\u001b[1;32m<ipython-input-71-4a105a04ced2>\u001b[0m in \u001b[0;36m<module>\u001b[1;34m\u001b[0m\n\u001b[0;32m      1\u001b[0m \u001b[0mlen\u001b[0m\u001b[1;33m(\u001b[0m\u001b[0mC\u001b[0m\u001b[1;33m)\u001b[0m\u001b[1;31m# 1654038\u001b[0m\u001b[1;33m\u001b[0m\u001b[1;33m\u001b[0m\u001b[0m\n\u001b[1;32m----> 2\u001b[1;33m \u001b[0mD\u001b[0m \u001b[1;33m=\u001b[0m \u001b[1;33m[\u001b[0m\u001b[0ma\u001b[0m\u001b[1;33m*\u001b[0m\u001b[0mb\u001b[0m \u001b[1;32mfor\u001b[0m \u001b[0ma\u001b[0m \u001b[1;32min\u001b[0m \u001b[0mC\u001b[0m \u001b[1;32mfor\u001b[0m \u001b[0mb\u001b[0m \u001b[1;32min\u001b[0m \u001b[0madds\u001b[0m \u001b[1;32mif\u001b[0m \u001b[0ma\u001b[0m\u001b[1;33m%\u001b[0m\u001b[0mb\u001b[0m\u001b[1;33m!=\u001b[0m\u001b[1;36m0\u001b[0m \u001b[1;32mand\u001b[0m \u001b[0ma\u001b[0m\u001b[1;33m*\u001b[0m\u001b[0mb\u001b[0m \u001b[1;33m<=\u001b[0m \u001b[1;36m10\u001b[0m\u001b[1;33m**\u001b[0m\u001b[1;36m12\u001b[0m\u001b[1;33m]\u001b[0m\u001b[1;33m\u001b[0m\u001b[1;33m\u001b[0m\u001b[0m\n\u001b[0m\u001b[0;32m      3\u001b[0m \u001b[0mlen\u001b[0m\u001b[1;33m(\u001b[0m\u001b[0mD\u001b[0m\u001b[1;33m)\u001b[0m\u001b[1;33m\u001b[0m\u001b[1;33m\u001b[0m\u001b[0m\n",
      "\u001b[1;32m<ipython-input-71-4a105a04ced2>\u001b[0m in \u001b[0;36m<listcomp>\u001b[1;34m(.0)\u001b[0m\n\u001b[0;32m      1\u001b[0m \u001b[0mlen\u001b[0m\u001b[1;33m(\u001b[0m\u001b[0mC\u001b[0m\u001b[1;33m)\u001b[0m\u001b[1;31m# 1654038\u001b[0m\u001b[1;33m\u001b[0m\u001b[1;33m\u001b[0m\u001b[0m\n\u001b[1;32m----> 2\u001b[1;33m \u001b[0mD\u001b[0m \u001b[1;33m=\u001b[0m \u001b[1;33m[\u001b[0m\u001b[0ma\u001b[0m\u001b[1;33m*\u001b[0m\u001b[0mb\u001b[0m \u001b[1;32mfor\u001b[0m \u001b[0ma\u001b[0m \u001b[1;32min\u001b[0m \u001b[0mC\u001b[0m \u001b[1;32mfor\u001b[0m \u001b[0mb\u001b[0m \u001b[1;32min\u001b[0m \u001b[0madds\u001b[0m \u001b[1;32mif\u001b[0m \u001b[0ma\u001b[0m\u001b[1;33m%\u001b[0m\u001b[0mb\u001b[0m\u001b[1;33m!=\u001b[0m\u001b[1;36m0\u001b[0m \u001b[1;32mand\u001b[0m \u001b[0ma\u001b[0m\u001b[1;33m*\u001b[0m\u001b[0mb\u001b[0m \u001b[1;33m<=\u001b[0m \u001b[1;36m10\u001b[0m\u001b[1;33m**\u001b[0m\u001b[1;36m12\u001b[0m\u001b[1;33m]\u001b[0m\u001b[1;33m\u001b[0m\u001b[1;33m\u001b[0m\u001b[0m\n\u001b[0m\u001b[0;32m      3\u001b[0m \u001b[0mlen\u001b[0m\u001b[1;33m(\u001b[0m\u001b[0mD\u001b[0m\u001b[1;33m)\u001b[0m\u001b[1;33m\u001b[0m\u001b[1;33m\u001b[0m\u001b[0m\n",
      "\u001b[1;31mKeyboardInterrupt\u001b[0m: "
     ]
    }
   ],
   "source": [
    "len(C)# 1654038\n",
    "D = [a*b for a in C for b in adds if a%b!=0 and a*b <= 10**12]\n",
    "len(D)"
   ]
  },
  {
   "cell_type": "code",
   "execution_count": null,
   "metadata": {},
   "outputs": [],
   "source": []
  },
  {
   "cell_type": "code",
   "execution_count": 37,
   "metadata": {},
   "outputs": [
    {
     "data": {
      "text/plain": [
       "1774"
      ]
     },
     "execution_count": 37,
     "metadata": {},
     "output_type": "execute_result"
    }
   ],
   "source": [
    "sum(adds) + sum(pots)"
   ]
  },
  {
   "cell_type": "code",
   "execution_count": 38,
   "metadata": {},
   "outputs": [
    {
     "data": {
      "text/plain": [
       "2159416853"
      ]
     },
     "execution_count": 38,
     "metadata": {},
     "output_type": "execute_result"
    }
   ],
   "source": [
    "364709307356693%(2**32)"
   ]
  },
  {
   "cell_type": "code",
   "execution_count": 45,
   "metadata": {},
   "outputs": [
    {
     "data": {
      "text/plain": [
       "967458816001"
      ]
     },
     "execution_count": 45,
     "metadata": {},
     "output_type": "execute_result"
    }
   ],
   "source": [
    "max(adds)"
   ]
  },
  {
   "cell_type": "code",
   "execution_count": 46,
   "metadata": {},
   "outputs": [
    {
     "data": {
      "text/plain": [
       "9600000001"
      ]
     },
     "execution_count": 46,
     "metadata": {},
     "output_type": "execute_result"
    }
   ],
   "source": [
    "max([a for a in adds if a<=10**10])"
   ]
  },
  {
   "cell_type": "code",
   "execution_count": 60,
   "metadata": {},
   "outputs": [
    {
     "data": {
      "text/plain": [
       "3561"
      ]
     },
     "execution_count": 60,
     "metadata": {},
     "output_type": "execute_result"
    }
   ],
   "source": [
    "all = []\n",
    "for i1 in range(0,41):\n",
    "    for i2 in range(0,27):\n",
    "        for i3 in range(0,19):\n",
    "            for p in [1] + adds:\n",
    "                n = 2**i1*3**i2*5**i3*p\n",
    "                if n<=10**2:\n",
    "                    if p == 9600000001:\n",
    "                        print(n)\n",
    "                    all.extend([n])\n",
    "all = sorted(list(set(all)))\n",
    "(sum(all)+1)%(2**32)"
   ]
  },
  {
   "cell_type": "code",
   "execution_count": 64,
   "metadata": {},
   "outputs": [
    {
     "data": {
      "text/plain": [
       "[3,\n",
       " 5,\n",
       " 7,\n",
       " 11,\n",
       " 13,\n",
       " 17,\n",
       " 19,\n",
       " 31,\n",
       " 37,\n",
       " 41,\n",
       " 61,\n",
       " 73,\n",
       " 97,\n",
       " 101,\n",
       " 109,\n",
       " 151,\n",
       " 163,\n",
       " 181,\n",
       " 193,\n",
       " 241,\n",
       " 251,\n",
       " 257,\n",
       " 271,\n",
       " 401,\n",
       " 433,\n",
       " 487,\n",
       " 541,\n",
       " 577,\n",
       " 601,\n",
       " 641,\n",
       " 751,\n",
       " 769,\n",
       " 811,\n",
       " 1153,\n",
       " 1201,\n",
       " 1297,\n",
       " 1459,\n",
       " 1601,\n",
       " 1621,\n",
       " 1801,\n",
       " 2161,\n",
       " 2251,\n",
       " 2593,\n",
       " 2917,\n",
       " 3001,\n",
       " 3457,\n",
       " 3889,\n",
       " 4001,\n",
       " 4051,\n",
       " 4801]"
      ]
     },
     "execution_count": 64,
     "metadata": {},
     "output_type": "execute_result"
    }
   ],
   "source": [
    "sorted(adds)[:50]"
   ]
  },
  {
   "cell_type": "code",
   "execution_count": 62,
   "metadata": {},
   "outputs": [
    {
     "name": "stdout",
     "output_type": "stream",
     "text": [
      "0 0 False\n",
      "1 1 True\n",
      "2 1 True\n",
      "3 2 True\n",
      "4 2 True\n",
      "5 4 True\n",
      "6 2 True\n",
      "7 6 True\n",
      "8 4 True\n",
      "9 6 True\n",
      "10 4 True\n",
      "11 10 True\n",
      "12 4 True\n",
      "13 12 True\n",
      "14 6 True\n",
      "15 8 True\n",
      "16 8 True\n",
      "17 16 True\n",
      "18 6 True\n",
      "19 18 True\n",
      "20 8 True\n",
      "21 12 True\n",
      "22 10 True\n",
      "23 22 False\n",
      "24 8 True\n",
      "25 20 True\n",
      "26 12 True\n",
      "27 18 True\n",
      "28 12 True\n",
      "29 28 False\n",
      "30 8 True\n",
      "31 30 True\n",
      "32 16 True\n",
      "33 20 True\n",
      "34 16 True\n",
      "35 24 True\n",
      "36 12 True\n",
      "37 36 True\n",
      "38 18 True\n",
      "39 24 True\n",
      "40 16 True\n",
      "41 40 True\n",
      "42 12 True\n",
      "43 42 False\n",
      "44 20 True\n",
      "45 24 True\n",
      "46 22 False\n",
      "47 46 False\n",
      "48 16 True\n",
      "49 42 False\n",
      "50 20 True\n",
      "51 32 True\n",
      "52 24 True\n",
      "53 52 False\n",
      "54 18 True\n",
      "55 40 True\n",
      "56 24 True\n",
      "57 36 True\n",
      "58 28 False\n",
      "59 58 False\n",
      "60 16 True\n",
      "61 60 True\n",
      "62 30 True\n",
      "63 36 True\n",
      "64 32 True\n",
      "65 48 True\n",
      "66 20 True\n",
      "67 66 False\n",
      "68 32 True\n",
      "69 44 False\n",
      "70 24 True\n",
      "71 70 False\n",
      "72 24 True\n",
      "73 72 True\n",
      "74 36 True\n",
      "75 40 True\n",
      "76 36 True\n",
      "77 60 False\n",
      "78 24 True\n",
      "79 78 False\n",
      "80 32 True\n",
      "81 54 True\n",
      "82 40 True\n",
      "83 82 False\n",
      "84 24 True\n",
      "85 64 True\n",
      "86 42 False\n",
      "87 56 False\n",
      "88 40 True\n",
      "89 88 False\n",
      "90 24 True\n",
      "91 72 False\n",
      "92 44 False\n",
      "93 60 True\n",
      "94 46 False\n",
      "95 72 True\n",
      "96 32 True\n",
      "97 96 True\n",
      "98 42 False\n",
      "99 60 True\n",
      "100 40 True\n"
     ]
    }
   ],
   "source": [
    "from math import gcd\n",
    "\n",
    "def phi(n):\n",
    "    amount = 0        \n",
    "    for k in range(1, n + 1):\n",
    "        if gcd(n, k) == 1:\n",
    "            amount += 1\n",
    "    return amount\n",
    "\n",
    "for i in range(101):\n",
    "    print(i, phi(i), i in all)"
   ]
  },
  {
   "cell_type": "code",
   "execution_count": 54,
   "metadata": {},
   "outputs": [
    {
     "data": {
      "text/plain": [
       "[1, 2, 5, 3]"
      ]
     },
     "execution_count": 54,
     "metadata": {},
     "output_type": "execute_result"
    }
   ],
   "source": [
    "A = [2,5,3]\n",
    "[1] + A"
   ]
  }
 ],
 "metadata": {
  "kernelspec": {
   "display_name": "Python 3",
   "language": "python",
   "name": "python3"
  },
  "language_info": {
   "codemirror_mode": {
    "name": "ipython",
    "version": 3
   },
   "file_extension": ".py",
   "mimetype": "text/x-python",
   "name": "python",
   "nbconvert_exporter": "python",
   "pygments_lexer": "ipython3",
   "version": "3.7.6"
  }
 },
 "nbformat": 4,
 "nbformat_minor": 4
}
