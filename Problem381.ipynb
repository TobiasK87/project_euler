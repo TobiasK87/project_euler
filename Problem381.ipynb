{
 "cells": [
  {
   "cell_type": "code",
   "execution_count": 4,
   "metadata": {},
   "outputs": [],
   "source": [
    "def egcd(a, b):\n",
    "    if a == 0:\n",
    "        return (b, 0, 1)\n",
    "    else:\n",
    "        g, y, x = egcd(b % a, a)\n",
    "        return (g, x - (b // a) * y, y)\n",
    "\n",
    "def modinv(a, m):\n",
    "    g, x, y = egcd(a, m)\n",
    "    if g != 1:\n",
    "        raise Exception('modular inverse does not exist')\n",
    "    else:\n",
    "        return x % m\n",
    "    \n",
    "def primes(n):\n",
    "    r = [True] * n\n",
    "    r[0] = r[1] = False \n",
    "    r[4::2] = [False] * len(r[4::2])\n",
    "    for i in range(3,int(1 + n**0.5),2):\n",
    "        if r[i]:\n",
    "            r[i*i::2*i] = [False] * len(r[i*i::2*i])\n",
    "    return r\n",
    "\n",
    "prime_list = primes(10**8-1)\n",
    "prime_list = [i for i,x in enumerate(prime_list) if x]\n",
    "prime_list = [p for p in prime_list if p>=5]"
   ]
  },
  {
   "cell_type": "code",
   "execution_count": 5,
   "metadata": {},
   "outputs": [
    {
     "data": {
      "text/plain": [
       "139602943319822"
      ]
     },
     "execution_count": 5,
     "metadata": {},
     "output_type": "execute_result"
    }
   ],
   "source": [
    "sm = 0\n",
    "for p in prime_list:\n",
    "    b = 0\n",
    "    a = modinv(p-2,p)\n",
    "    b += a\n",
    "    a = a*modinv(p-3,p)\n",
    "    b += a\n",
    "    a = a*modinv(p-4,p)\n",
    "    b += a\n",
    "    b = b%p\n",
    "    sm += b\n",
    "sm # 139602943319822"
   ]
  }
 ],
 "metadata": {
  "kernelspec": {
   "display_name": "Python 3",
   "language": "python",
   "name": "python3"
  },
  "language_info": {
   "codemirror_mode": {
    "name": "ipython",
    "version": 3
   },
   "file_extension": ".py",
   "mimetype": "text/x-python",
   "name": "python",
   "nbconvert_exporter": "python",
   "pygments_lexer": "ipython3",
   "version": "3.7.6"
  }
 },
 "nbformat": 4,
 "nbformat_minor": 4
}
