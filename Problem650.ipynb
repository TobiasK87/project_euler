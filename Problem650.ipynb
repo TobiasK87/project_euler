{
 "cells": [
  {
   "cell_type": "code",
   "execution_count": 1,
   "metadata": {},
   "outputs": [],
   "source": [
    "import numpy as np\n",
    "def primes(n):\n",
    "    r = [True] * n\n",
    "    r[0] = r[1] = False \n",
    "    r[4::2] = [False] * len(r[4::2])\n",
    "    for i in range(3,int(1 + n**0.5),2):\n",
    "        if r[i]:\n",
    "            r[i*i::2*i] = [False] * len(r[i*i::2*i])\n",
    "    return r\n",
    "\n",
    "prime_list = primes(2*10**4)\n",
    "prime_list = [i for i,x in enumerate(prime_list) if x]\n",
    "\n",
    "primes_small = prime_list[:11301]\n",
    "       \n",
    "def prime_factors(n):\n",
    "    primfac = []\n",
    "    d = 2\n",
    "    while d*d <= n:\n",
    "        while (n % d) == 0:\n",
    "            primfac.append(d)  # supposing you want multiple factors repeated\n",
    "            n //= d\n",
    "        d += 1\n",
    "    if n > 1:\n",
    "       primfac.append(n)\n",
    "    return primfac\n",
    "\n",
    "\n",
    "inverses = {1:1}\n",
    "def egcd(a, b):\n",
    "    if a == 0:\n",
    "        return (b, 0, 1)\n",
    "    else:\n",
    "        g, y, x = egcd(b % a, a)\n",
    "        return (g, x - (b // a) * y, y)\n",
    "\n",
    "def modinv(a, m):\n",
    "    g, x, y = egcd(a, m)\n",
    "    if g != 1:\n",
    "        raise Exception('modular inverse does not exist')\n",
    "    else:\n",
    "        return x % m\n",
    "\n",
    "def potmod(b,e,m):\n",
    "    pr = 1\n",
    "    for i in range(e):\n",
    "        pr *= b\n",
    "        pr = pr%m\n",
    "    return pr\n",
    "def sumofpots(a,e,m):\n",
    "    sm = 1\n",
    "    for i in range(1,e+1):\n",
    "        sm += potmod(a,i,m)\n",
    "        sm = sm%m\n",
    "    return sm\n",
    "def modInverse(a, m) : \n",
    "    a = a % m; \n",
    "    for x in range(1, m) : \n",
    "        if ((a * x) % m == 1) : \n",
    "            return x \n",
    "    return 1\n",
    "    \n",
    "ls = list(cl(20000))\n",
    "for i in ls:\n",
    "    i-=1\n",
    "    #print(i)\n",
    "    inverses[i] = modinv(i,m)"
   ]
  },
  {
   "cell_type": "code",
   "execution_count": 92,
   "metadata": {},
   "outputs": [
    {
     "ename": "KeyError",
     "evalue": "(2, 3, 4)",
     "output_type": "error",
     "traceback": [
      "\u001b[1;31m---------------------------------------------------------------------------\u001b[0m",
      "\u001b[1;31mKeyError\u001b[0m                                  Traceback (most recent call last)",
      "\u001b[1;32m<ipython-input-92-33750aa20f2c>\u001b[0m in \u001b[0;36m<module>\u001b[1;34m\u001b[0m\n\u001b[0;32m      2\u001b[0m \u001b[1;32mfor\u001b[0m \u001b[0mi\u001b[0m \u001b[1;32min\u001b[0m \u001b[0mrange\u001b[0m\u001b[1;33m(\u001b[0m\u001b[1;36m2\u001b[0m\u001b[1;33m,\u001b[0m\u001b[1;36m20\u001b[0m\u001b[1;33m*\u001b[0m\u001b[1;36m10\u001b[0m\u001b[1;33m**\u001b[0m\u001b[1;36m4\u001b[0m\u001b[1;33m+\u001b[0m\u001b[1;36m1\u001b[0m\u001b[1;33m)\u001b[0m\u001b[1;33m:\u001b[0m\u001b[1;33m\u001b[0m\u001b[1;33m\u001b[0m\u001b[0m\n\u001b[0;32m      3\u001b[0m     \u001b[0mall_factorizations\u001b[0m\u001b[1;33m[\u001b[0m\u001b[0mi\u001b[0m\u001b[1;33m]\u001b[0m \u001b[1;33m=\u001b[0m \u001b[0mprime_factors\u001b[0m\u001b[1;33m(\u001b[0m\u001b[0mi\u001b[0m\u001b[1;33m)\u001b[0m\u001b[1;33m\u001b[0m\u001b[1;33m\u001b[0m\u001b[0m\n\u001b[1;32m----> 4\u001b[1;33m \u001b[0mall_factorizations\u001b[0m\u001b[1;33m[\u001b[0m\u001b[1;36m2\u001b[0m\u001b[1;33m,\u001b[0m\u001b[1;36m3\u001b[0m\u001b[1;33m,\u001b[0m\u001b[1;36m4\u001b[0m\u001b[1;33m]\u001b[0m\u001b[1;33m\u001b[0m\u001b[1;33m\u001b[0m\u001b[0m\n\u001b[0m",
      "\u001b[1;31mKeyError\u001b[0m: (2, 3, 4)"
     ]
    }
   ],
   "source": [
    "all_factorizations = {}\n",
    "for i in range(2,20*10**4+1):\n",
    "    all_factorizations[i] = prime_factors(i)"
   ]
  },
  {
   "cell_type": "code",
   "execution_count": 265,
   "metadata": {},
   "outputs": [
    {
     "data": {
      "text/plain": [
       "(2262, 178437)"
      ]
     },
     "execution_count": 265,
     "metadata": {},
     "output_type": "execute_result"
    }
   ],
   "source": [
    "def cl(n):\n",
    "    dic = {}\n",
    "    n_k_prime_factors = []\n",
    "    if n%2==1:\n",
    "        cnt = int(n/2)+1\n",
    "        for k in reversed(range(int((n+1)/2),n+1)):\n",
    "            cnt -= 1\n",
    "            factors = list(set(all_factorizations[k]))\n",
    "            for i in factors:\n",
    "               # print(k, i,cnt, all_factorizations[k].count(i)*2*cnt)\n",
    "                dic[i] = dic.get(i,0) + all_factorizations[k].count(i)*2*cnt\n",
    "        cnt = int(n/2)\n",
    "        #print(dic)\n",
    "        for k in range(2,int((n+1)/2)):\n",
    "            cnt -= 1\n",
    "            factors = list(set(all_factorizations[k]))\n",
    "            for i in factors:\n",
    "                #print(k, i, all_factorizations[k].count(i), cnt, all_factorizations[k].count(i)*2*cnt)\n",
    "                dic[i] = dic.get(i,0) - all_factorizations[k].count(i)*2*cnt\n",
    "        #print(\"hier\",dic)\n",
    "            \n",
    "    #print(\"diczwischenstand\", dic)\n",
    "            \n",
    "    # Für n gerade\n",
    "    if n%2==0:\n",
    "        cnt=int(n/2)\n",
    "        for k in reversed(range(int(n/2)+1,n+1)):\n",
    "            cnt -= 1\n",
    "            factors = list(set(all_factorizations[k]))\n",
    "            for i in factors:\n",
    "                #print(k, i,cnt, all_factorizations[k].count(i)*2*cnt)\n",
    "                dic[i] = dic.get(i,0) + all_factorizations[k].count(i)*2*cnt\n",
    "        factors = list(set(all_factorizations[int(n/2)]))\n",
    "        cnt=int(n/2)-1\n",
    "        #print(dic)\n",
    "        for k in range(2,int(n/2)):\n",
    "            cnt -= 1\n",
    "            factors = list(set(all_factorizations[k]))\n",
    "            for i in factors:\n",
    "                #print(k, i, all_factorizations[k].count(i), cnt, all_factorizations[k].count(i)*2*cnt)\n",
    "                dic[i] = dic.get(i,0) - all_factorizations[k].count(i)*2*cnt\n",
    "        #print(\"hier\",dic)\n",
    "        # n über n/2 fehlt noch\n",
    "        for k in range(2,n+1):\n",
    "            factors = list(set(all_factorizations[k]))\n",
    "            for i in factors:\n",
    "                if 2*k<=n:\n",
    "                    dic[i] = dic.get(i,0) - all_factorizations[k].count(i)\n",
    "                else:\n",
    "                    dic[i] = dic.get(i,0) + all_factorizations[k].count(i)\n",
    "                #print(k,dic)\n",
    "    for i in list(dic.keys()):\n",
    "        if dic[i]==0:\n",
    "            del dic[i]\n",
    "    return dic\n",
    "a = cl(20000)\n",
    "len(a), a[2]\n",
    "#a"
   ]
  },
  {
   "cell_type": "code",
   "execution_count": 397,
   "metadata": {},
   "outputs": [
    {
     "data": {
      "text/plain": [
       "374766243"
      ]
     },
     "execution_count": 397,
     "metadata": {},
     "output_type": "execute_result"
    }
   ],
   "source": [
    "def sigma2(dictionary):\n",
    "    prd = 1\n",
    "    for i in list(dictionary.keys()):\n",
    "        prd *= (pow(i,dictionary[i]+1,m)-1)%m\n",
    "        prd = int(prd)\n",
    "        if m>10**9+7:\n",
    "            prd = prd / (i-1)\n",
    "        else:\n",
    "            prd = prd * inverses[i-1]\n",
    "#        prd *= sumofpots(i,dictionary[i],m)\n",
    "        prd = prd%m\n",
    "        prd = int(prd)\n",
    "    return prd\n",
    "sigma2(cl(100))"
   ]
  },
  {
   "cell_type": "code",
   "execution_count": 399,
   "metadata": {},
   "outputs": [
    {
     "name": "stdout",
     "output_type": "stream",
     "text": [
      "1000\n",
      "2000\n",
      "3000\n",
      "4000\n",
      "5000\n",
      "6000\n",
      "7000\n",
      "8000\n",
      "9000\n",
      "10000\n",
      "11000\n",
      "12000\n",
      "13000\n",
      "14000\n",
      "15000\n",
      "16000\n",
      "17000\n",
      "18000\n",
      "19000\n",
      "20000\n"
     ]
    },
    {
     "data": {
      "text/plain": [
       "538319652"
      ]
     },
     "execution_count": 399,
     "metadata": {},
     "output_type": "execute_result"
    }
   ],
   "source": [
    "sm = 4\n",
    "m = 1000000007\n",
    "# m = 10**100\n",
    "limit = 20000\n",
    "for i in range(3,limit+1):\n",
    "    if i%1000==0:\n",
    "        print(i)\n",
    "    s = sigma2(cl(i))\n",
    "    #print(s)\n",
    "    sm += int(s)\n",
    "    sm = sm%m\n",
    "    #print(sm)\n",
    "sm%m # 538319652"
   ]
  }
 ],
 "metadata": {
  "kernelspec": {
   "display_name": "Python 3",
   "language": "python",
   "name": "python3"
  },
  "language_info": {
   "codemirror_mode": {
    "name": "ipython",
    "version": 3
   },
   "file_extension": ".py",
   "mimetype": "text/x-python",
   "name": "python",
   "nbconvert_exporter": "python",
   "pygments_lexer": "ipython3",
   "version": "3.7.6"
  }
 },
 "nbformat": 4,
 "nbformat_minor": 4
}
